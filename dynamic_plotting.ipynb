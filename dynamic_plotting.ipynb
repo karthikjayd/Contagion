{
 "cells": [
  {
   "cell_type": "markdown",
   "id": "be6f20aa",
   "metadata": {},
   "source": [
    "# 🦠 Agent-Based Contagion Spread Simulation"
   ]
  },
  {
   "cell_type": "markdown",
   "id": "f59eec9a",
   "metadata": {},
   "source": [
    "This project presents an interactive, agent-based simulation of contagion dynamics in a confined 2D space. It models how infectious diseases can spread in a population with varying degrees of vaccination (immunization) and explores how these parameters influence epidemic outcomes over time."
   ]
  },
  {
   "cell_type": "markdown",
   "id": "31820115",
   "metadata": {},
   "source": [
    "\n",
    "# Overview\n",
    "\n",
    "Agents (representing individuals) move in a 50×50 nm² box and can be in one of three states:\n",
    "\n",
    "* **Healthy**\n",
    "* **Infected**\n",
    "* **Immunized** (vaccinated)"
   ]
  },
  {
   "cell_type": "markdown",
   "id": "06660fe1",
   "metadata": {},
   "source": [
    "## Model\n",
    "\n",
    "The model incorporates realistic dynamics:\n",
    "\n",
    "* Infections occur through proximity-based contact.\n",
    "* Immunized individuals have a reduced probability of getting infected (simulating breakthrough cases).\n",
    "* Infected agents eventually recover and become immunized again, allowing for reinfection dynamics (endemic behavior).\n"
   ]
  },
  {
   "cell_type": "markdown",
   "id": "d5988592",
   "metadata": {},
   "source": [
    "## Features\n",
    "\n",
    "* **Interactive simulation** using Jupyter widgets\n",
    "* **Parameter controls** for population size, infection radius, probability, vaccination rate, and simulation length\n",
    "* **Live visualizations**:\n",
    "\n",
    "  * Agent positions and infection status\n",
    "  * Infection trend over time\n",
    "* **Modular code** structure for easy extension or integration into dashboards"
   ]
  },
  {
   "cell_type": "markdown",
   "id": "2f77a707",
   "metadata": {},
   "source": [
    "<img src=\"contagion_demo.png\" alt=\"Contagion Simulation Demo\" style=\"width:40%;\">"
   ]
  },
  {
   "cell_type": "markdown",
   "id": "019384c4",
   "metadata": {},
   "source": [
    "## Packages Used\n",
    "\n",
    "* Python (NumPy, Matplotlib)\n",
    "* Jupyter Notebook\n",
    "* `ipywidgets` for interactivity\n",
    "* Custom module (`sim_code.py`) for agent logic\n"
   ]
  },
  {
   "cell_type": "markdown",
   "id": "a64400e7",
   "metadata": {},
   "source": [
    "# How to Run\n",
    "\n",
    "1. Clone this repo and ensure the following files are present:\n",
    "\n",
    "   * `dynamic_plotting.ipynb` (main notebook)\n",
    "   * `sim_code.py` (simulation functions)\n",
    "\n",
    "2. Install the required packages:\n",
    "\n",
    "   ```bash\n",
    "   pip install numpy matplotlib ipywidgets\n",
    "   ```\n",
    "\n",
    "3. Open the notebook in Jupyter:\n",
    "\n",
    "   ```bash\n",
    "   jupyter notebook dynamic_plotting.ipynb\n",
    "   ```\n",
    "\n",
    "4. Adjust parameters using sliders and run the simulation.\n",
    "\n",
    "5. Observe the live updates of agent states and infection trends."
   ]
  },
  {
   "cell_type": "markdown",
   "id": "938d3854",
   "metadata": {},
   "source": [
    "\n",
    "## Ideas for Extension\n",
    "\n",
    "* Add real-world data integration via APIs\n",
    "* Build a web app using Streamlit or Dash\n",
    "* Compare policy scenarios across regions"
   ]
  },
  {
   "cell_type": "code",
   "execution_count": 1,
   "id": "52aaeb6d",
   "metadata": {},
   "outputs": [],
   "source": [
    "import numpy as np\n",
    "import matplotlib.pyplot as plt\n",
    "from ipywidgets import interact, IntSlider, FloatSlider, VBox, HBox, Play, jslink, interactive_output\n",
    "from IPython.display import display\n",
    "\n",
    "from sim_code import run_simulation\n"
   ]
  },
  {
   "cell_type": "code",
   "execution_count": 2,
   "id": "9d5ec3ef",
   "metadata": {},
   "outputs": [],
   "source": [
    "\n",
    "# Color mapping for agent states\n",
    "state_colors = {0: 'blue', 1: 'red', 2: 'green'}\n",
    "\n",
    "def plot_simulation(population, infection_radius, infection_probability, steps, \n",
    "                    box_size=50, init_infected=1, immunized_fraction=0.0, seed=None, t_show=None):\n",
    "    \"\"\"\n",
    "    Run simulation and plot results.\n",
    "    \"\"\"\n",
    "    history = run_simulation(\n",
    "        population=population,\n",
    "        infection_radius=infection_radius,\n",
    "        infection_probability=infection_probability,\n",
    "        steps=steps,\n",
    "        box_size=box_size,\n",
    "        init_infected=init_infected,\n",
    "        immunized_fraction=immunized_fraction,\n",
    "        seed=seed\n",
    "    )\n",
    "    if t_show is None:\n",
    "        t_show = steps - 1\n",
    "\n",
    "    # Scatter plot at selected time step\n",
    "    agents = history[t_show]\n",
    "    plt.figure(figsize=(6, 6))\n",
    "    for state, color in state_colors.items():\n",
    "        idx = agents[:, 2] == state\n",
    "        plt.scatter(agents[idx, 0], agents[idx, 1], c=color, label={0:'Healthy',1:'Infected',2:'Immunized'}[state], s=30)\n",
    "    plt.title(f\"Agent States at Step {t_show+1}\")\n",
    "    plt.xlim(0, box_size)\n",
    "    plt.ylim(0, box_size)\n",
    "    plt.xlabel(\"x\")\n",
    "    plt.ylabel(\"y\")\n",
    "    plt.legend()\n",
    "    plt.grid(True)\n",
    "    plt.show()\n",
    "\n",
    "    # Line plot of infected count over time\n",
    "    infected_counts = np.sum(history[:, :, 2] == 1, axis=1)\n",
    "    plt.figure(figsize=(6, 3))\n",
    "    plt.plot(np.arange(steps), infected_counts, color='red')\n",
    "    plt.xlabel(\"Time step\")\n",
    "    plt.ylabel(\"Number infected\")\n",
    "    plt.title(\"Infected Over Time\")\n",
    "    plt.grid(True)\n",
    "    plt.tight_layout()\n",
    "    plt.show()"
   ]
  },
  {
   "cell_type": "code",
   "execution_count": null,
   "id": "b25e02fa",
   "metadata": {},
   "outputs": [],
   "source": [
    "\n",
    "# --- Interactive controls ---\n",
    "\n",
    "pop_slider = IntSlider(value=50, min=10, max=500, step=10, description='Population')\n",
    "radius_slider = FloatSlider(value=1.0, min=0.1, max=5.0, step=0.1, description='Infect Radius')\n",
    "prob_slider = FloatSlider(value=0.2, min=0.0, max=1.0, step=0.01, description='Infect Prob')\n",
    "steps_slider = IntSlider(value=200, min=50, max=2000, step=10, description='Steps')\n",
    "immun_slider = FloatSlider(value=0.0, min=0.0, max=0.9, step=0.05, description='Immunized %')\n",
    "seed_slider = IntSlider(value=0, min=0, max=10000, step=1, description='Seed')\n"
   ]
  },
  {
   "cell_type": "code",
   "execution_count": 4,
   "id": "de78f6b3",
   "metadata": {},
   "outputs": [],
   "source": [
    "\n",
    "def interactive_sim(population, infection_radius, infection_probability, steps, immunized_fraction, seed):\n",
    "    history = run_simulation(\n",
    "        population=population,\n",
    "        infection_radius=infection_radius,\n",
    "        infection_probability=infection_probability,\n",
    "        steps=steps,\n",
    "        immunized_fraction=immunized_fraction,\n",
    "        seed=seed\n",
    "    )\n",
    "    # Time slider for stepping through simulation\n",
    "    t_slider = IntSlider(value=steps-1, min=0, max=steps-1, step=1, description='Time')\n",
    "    play = Play(value=steps-1, min=0, max=steps-1, step=1, interval=80, description=\"Press play\", disabled=False)\n",
    "    jslink((play, 'value'), (t_slider, 'value'))\n",
    "\n",
    "    def plot_at_time(t_show):\n",
    "        agents = history[t_show]\n",
    "        plt.figure(figsize=(6, 6))\n",
    "        for state, color in state_colors.items():\n",
    "            idx = agents[:, 2] == state\n",
    "            plt.scatter(agents[idx, 0], agents[idx, 1], c=color, label={0:'Healthy',1:'Infected',2:'Immunized'}[state], s=30)\n",
    "        plt.title(f\"Agent States at Step {t_show+1}\")\n",
    "        plt.xlim(0, 50)\n",
    "        plt.ylim(0, 50)\n",
    "        plt.xlabel(\"x\")\n",
    "        plt.ylabel(\"y\")\n",
    "        plt.legend()\n",
    "        plt.grid(True)\n",
    "        plt.show()\n",
    "\n",
    "        # Line plot of infected count up to current time\n",
    "        infected_counts = np.sum(history[:, :, 2] == 1, axis=1)\n",
    "        plt.figure(figsize=(6, 3))\n",
    "        plt.plot(np.arange(t_show+1), infected_counts[:t_show+1], color='red')\n",
    "        plt.xlim(0, steps)\n",
    "        plt.ylim(0, np.max(infected_counts)+1)\n",
    "        plt.axvline(t_show, color='gray', linestyle='--', alpha=0.5)\n",
    "        plt.xlabel(\"Time step\")\n",
    "        plt.ylabel(\"Number infected\")\n",
    "        plt.title(\"Infected Over Time\")\n",
    "        plt.grid(True)\n",
    "        plt.tight_layout()\n",
    "        plt.show()\n",
    "\n",
    "    out = interactive_output(plot_at_time, {'t_show': t_slider})\n",
    "    display(HBox([play, t_slider]))\n",
    "    display(out)\n"
   ]
  },
  {
   "cell_type": "code",
   "execution_count": 5,
   "id": "1f643a8f",
   "metadata": {},
   "outputs": [
    {
     "data": {
      "application/vnd.jupyter.widget-view+json": {
       "model_id": "00db56acf6b3426bb8156b16d5383a63",
       "version_major": 2,
       "version_minor": 0
      },
      "text/plain": [
       "interactive(children=(IntSlider(value=50, description='Population', max=500, min=10, step=10), FloatSlider(val…"
      ]
     },
     "metadata": {},
     "output_type": "display_data"
    }
   ],
   "source": [
    "interact(\n",
    "    interactive_sim,\n",
    "    population=pop_slider,\n",
    "    infection_radius=radius_slider,\n",
    "    infection_probability=prob_slider,\n",
    "    steps=steps_slider,\n",
    "    immunized_fraction=immun_slider,\n",
    "    seed=seed_slider\n",
    ");"
   ]
  },
  {
   "cell_type": "markdown",
   "id": "c8d1fcce",
   "metadata": {},
   "source": [
    "## Key Insights\n",
    "\n",
    "This simulation helps visualize the impact of:\n",
    "\n",
    "* Vaccination coverage on infection peaks and spread duration\n",
    "* Immunity thresholds required to prevent endemic scenarios\n",
    "* How changing the chance of breakthrough infections influences outcomes"
   ]
  },
  {
   "cell_type": "code",
   "execution_count": null,
   "id": "0f66d43b",
   "metadata": {},
   "outputs": [],
   "source": []
  }
 ],
 "metadata": {
  "kernelspec": {
   "display_name": "myTest",
   "language": "python",
   "name": "python3"
  },
  "language_info": {
   "codemirror_mode": {
    "name": "ipython",
    "version": 3
   },
   "file_extension": ".py",
   "mimetype": "text/x-python",
   "name": "python",
   "nbconvert_exporter": "python",
   "pygments_lexer": "ipython3",
   "version": "3.11.13"
  }
 },
 "nbformat": 4,
 "nbformat_minor": 5
}
